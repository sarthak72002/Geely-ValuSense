{
 "cells": [
  {
   "cell_type": "code",
   "execution_count": 1,
   "id": "14f54fc7-7e65-489b-8bf7-d01c8ef546ef",
   "metadata": {},
   "outputs": [],
   "source": [
    "import gradio as gr\n",
    "import pickle\n",
    "from warnings import filterwarnings\n",
    "filterwarnings('ignore')"
   ]
  },
  {
   "cell_type": "code",
   "execution_count": 2,
   "id": "215ca242-af34-44e0-a4fb-ec3bab79cd2e",
   "metadata": {},
   "outputs": [],
   "source": [
    "with open('final_model_Gradient.pkl','rb') as file:\n",
    "    model = pickle.load(file)"
   ]
  },
  {
   "cell_type": "code",
   "execution_count": 3,
   "id": "00a039f3-f510-4260-b260-0e05da8d377b",
   "metadata": {},
   "outputs": [
    {
     "data": {
      "text/plain": [
       "array(['symboling', 'fueltype', 'aspiration', 'doornumber', 'carbody',\n",
       "       'drivewheel', 'enginelocation', 'wheelbase', 'carlength',\n",
       "       'carwidth', 'carheight', 'curbweight', 'enginetype',\n",
       "       'cylindernumber', 'enginesize', 'fuelsystem', 'stroke',\n",
       "       'horsepower', 'peakrpm', 'citympg', 'highwaympg', 'CompanyName'],\n",
       "      dtype=object)"
      ]
     },
     "execution_count": 3,
     "metadata": {},
     "output_type": "execute_result"
    }
   ],
   "source": [
    "model.feature_names_in_"
   ]
  },
  {
   "cell_type": "code",
   "execution_count": 4,
   "id": "911d7fd7-2af9-4da3-afe6-56ebd5c9b18e",
   "metadata": {},
   "outputs": [],
   "source": [
    "def prediction (sym,fuel,aspi,door,carbody,drivewheel,engine_l,whel_b,car_l,car_w,car_h,cur_weg,eng_ty,cylind_num,engi_siz,\n",
    "               fuel_sys,strok,h_p,peak,citmp,highmp,companyName):\n",
    "    input_data = [[sym,fuel,aspi,door,carbody,drivewheel,engine_l,whel_b,car_l,car_w,car_h,cur_weg,eng_ty,cylind_num,engi_siz,\n",
    "               fuel_sys,strok,h_p,peak,citmp,highmp,companyName]]\n",
    "\n",
    "    pred = model.predict(input_data)\n",
    "\n",
    "    return f' Price of car = ₹{(pred)}'"
   ]
  },
  {
   "cell_type": "code",
   "execution_count": 5,
   "id": "ea667ded-82a7-43af-a7f4-86839f4d5810",
   "metadata": {},
   "outputs": [
    {
     "name": "stdout",
     "output_type": "stream",
     "text": [
      "Running on local URL:  http://127.0.0.1:7860\n",
      "\n",
      "To create a public link, set `share=True` in `launch()`.\n"
     ]
    },
    {
     "data": {
      "text/html": [
       "<div><iframe src=\"http://127.0.0.1:7860/\" width=\"100%\" height=\"500\" allow=\"autoplay; camera; microphone; clipboard-read; clipboard-write;\" frameborder=\"0\" allowfullscreen></iframe></div>"
      ],
      "text/plain": [
       "<IPython.core.display.HTML object>"
      ]
     },
     "metadata": {},
     "output_type": "display_data"
    },
    {
     "data": {
      "text/plain": []
     },
     "execution_count": 5,
     "metadata": {},
     "output_type": "execute_result"
    }
   ],
   "source": [
    "iface = gr.Interface(fn=prediction,inputs=[\n",
    "        gr.Slider(minimum=-2, maximum=3, step=1,label = \"SYMBOLING: INSURANCE RISK RATING\"),\n",
    "        gr.Dropdown(choices=[('gas',0), (\"Diesel\",1)], label=\"FUEL TYPE\"),\n",
    "        gr.Dropdown(choices=[(\"std\",0), (\"turbo\",1)], label=\"ASPIRATION\"),\n",
    "        gr.Dropdown(choices=[('four',1),('two',0)], label=\"DOOR NUMBER\"),\n",
    "        gr.Dropdown(choices=[(\"Sedan\",0.47), (\"convertible\",0.03), (\"Hatchback\",0.34),(\"hardtop\",0.16)], label=\"CAR BODY\"),\n",
    "        gr.Dropdown(choices=[('fwd',0),('rwd',1),('4wd',2)], label=\"DRIVE WHEEL\"),\n",
    "        gr.Dropdown(choices=[('front',0),('rear',1)], label=\"ENGINE LOCATION\"),\n",
    "        gr.Dropdown(choices=[('alfa-romero',0.01),('audi',0.03),('bmw',0.04),('chevrolet',0.01),('dodge',0.04),('honda',0.06),\n",
    "                             ('isuzu',0.02),('jaguar',0.01),('maxda',0.01),('mazda',0.07),('buick',0.04),('mercury',0.00),\n",
    "                             ('mitsubishi',0.06),('Nissan',0.00),('nissan',0.08),('peugeot',0.05),('plymouth',0.03),('porsche',0.02),\n",
    "                             ('porcshce',0.00),('renault',0.01),('saab',0.03),('subaru',0.06),('toyota',0.15),('toyouta',0.00),\n",
    "                             ('vokswagen',0.00),('volkswagen',0.04),('vw',0.01),('volvo',0.05)],label='Company Name'),\n",
    "        gr.Slider(minimum=60, maximum=120, step=0.5, label=\"WHEELBASE\"),\n",
    "        gr.Slider(minimum=1, maximum=200,step=0.5, label=\"CAR LENGTH\"),\n",
    "        gr.Slider(minimum=1, maximum=100, step=0.5, label=\"CAR WIDTH\"),\n",
    "        gr.Slider(minimum=50, maximum=100, step=0.5, label=\"CAR HEIGHT\"),\n",
    "        gr.Number(label=\"CURB WEIGHT\"),\n",
    "        gr.Dropdown(choices=[(\"ohc\",0.72),(\"ohcf\",0.07),(\"ohcv\",0.06),(\"dohc\",0.06),('l',0.72),('rotor',0.02),('dohcv',0.00)],\n",
    "                    label=\"ENGINE TYPE\"),\n",
    "        gr.Dropdown(choices=[2,3,4,5,6,8,12], label=\"CYLINDER NUMBER\"),\n",
    "        gr.Slider(minimum=60, maximum=105, step=0.5,label=\"ENGINE SIZE\"),\n",
    "        gr.Dropdown(choices=[('mpfi',0.46),('2bbl',0.32),('idi',0.10),('1bbl',0.05),('spdi',0.04),('4bbl',0.01),('mfi',0.00),\n",
    "                             ('spfi',0.00)],label=\"FUEL SYSTEM\"),\n",
    "        gr.Slider(minimum=0, maximum=20, step=1,label=\"STROKE\"),\n",
    "        gr.Slider(minimum=0, maximum=100, step=1,label=\"HORSEPOWER\"),\n",
    "        gr.Slider(minimum=0, maximum=30, step=1,label=\"PEAK RPM\"),\n",
    "        gr.Slider(minimum=5, maximum=70, step=1,label=\"CITY MPG\"),\n",
    "        gr.Slider(minimum=5, maximum=100, step=1,label=\"HIGHWAY MPG\")],  # Assuming this is an area calculation based on dimensions \n",
    "    outputs=gr.Textbox(label=\"Price Prediction\"),\n",
    "    title=\"Car Price Prediction\",\n",
    "    description=\"This application predicts the price of a car based on various features.\"\n",
    ")\n",
    "iface.launch()"
   ]
  },
  {
   "cell_type": "code",
   "execution_count": 6,
   "id": "66f19061-6d9b-4daf-8033-ba613121ff34",
   "metadata": {},
   "outputs": [
    {
     "data": {
      "text/plain": [
       "' Price of car = ₹[8293.246091]'"
      ]
     },
     "execution_count": 6,
     "metadata": {},
     "output_type": "execute_result"
    }
   ],
   "source": [
    "prediction(1,1,0,1,0.03,2,1,100,110,100,70,2000,0.72,4,3,0.46,20,25,50,40,45,0.15)"
   ]
  },
  {
   "cell_type": "code",
   "execution_count": null,
   "id": "b3f96f63-22df-443d-b5c9-e43cf4a74775",
   "metadata": {},
   "outputs": [],
   "source": []
  }
 ],
 "metadata": {
  "kernelspec": {
   "display_name": "Python 3 (ipykernel)",
   "language": "python",
   "name": "python3"
  },
  "language_info": {
   "codemirror_mode": {
    "name": "ipython",
    "version": 3
   },
   "file_extension": ".py",
   "mimetype": "text/x-python",
   "name": "python",
   "nbconvert_exporter": "python",
   "pygments_lexer": "ipython3",
   "version": "3.12.4"
  }
 },
 "nbformat": 4,
 "nbformat_minor": 5
}
