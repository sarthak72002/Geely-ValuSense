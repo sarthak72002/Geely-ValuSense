{
 "cells": [
  {
   "cell_type": "code",
   "execution_count": 3,
   "id": "02ad8424-45fc-43fc-b495-bdb3c4b4c96b",
   "metadata": {},
   "outputs": [
    {
     "name": "stdout",
     "output_type": "stream",
     "text": [
      "Overwriting Geely_Value_Sense_App.py\n"
     ]
    }
   ],
   "source": [
    "%%writefile Geely_Value_Sense_App.py\n",
    "import streamlit as st\n",
    "import numpy as np\n",
    "\n",
    "# Assuming the model is already loaded\n",
    "# model = load_model('your_model_path')\n",
    "\n",
    "def prediction(sym, fuel, aspi, door, carbody, drivewheel, engine_l, whel_b, car_l, car_w, car_h, cur_weg, eng_ty, cylind_num, engi_siz,\n",
    "               fuel_sys, strok, h_p, peak, citmp, highmp, companyName):\n",
    "    input_data = np.array([[sym, fuel, aspi, door, carbody, drivewheel, engine_l, whel_b, car_l, car_w, car_h, cur_weg, eng_ty, cylind_num, engi_siz,\n",
    "                            fuel_sys, strok, h_p, peak, citmp, highmp, companyName]])\n",
    "    pred = model.predict(input_data)\n",
    "    return f'Price of car = ₹{pred[0]}'\n",
    "\n",
    "# Streamlit UI Components\n",
    "\n",
    "st.title(\"Car Price Prediction App\")\n",
    "st.write(\"This application predicts the price of a car based on various features.\")\n",
    "\n",
    "# Creating input fields\n",
    "sym = st.slider(\"SYMBOLING: INSURANCE RISK RATING\", min_value=-2, max_value=3, step=1)\n",
    "fuel = st.selectbox(\"FUEL TYPE\", [('gas', 0), (\"Diesel\", 1)])\n",
    "aspi = st.selectbox(\"ASPIRATION\", [(\"std\", 0), (\"turbo\", 1)])\n",
    "door = st.selectbox(\"DOOR NUMBER\", [('four', 1), ('two', 0)])\n",
    "carbody = st.selectbox(\"CAR BODY\", [(\"Sedan\", 0.47), (\"convertible\", 0.03), (\"Hatchback\", 0.34), (\"hardtop\", 0.16)])\n",
    "drivewheel = st.selectbox(\"DRIVE WHEEL\", [('fwd', 0), ('rwd', 1), ('4wd', 2)])\n",
    "engine_l = st.selectbox(\"ENGINE LOCATION\", [('front', 0), ('rear', 1)])\n",
    "companyName = st.selectbox(\"Company Name\", [('alfa-romero', 0.01), ('audi', 0.03), ('bmw', 0.04), ('chevrolet', 0.01), ('dodge', 0.04),\n",
    "                                            ('honda', 0.06), ('isuzu', 0.02), ('jaguar', 0.01), ('maxda', 0.01), ('mazda', 0.07),\n",
    "                                            ('buick', 0.04), ('mitsubishi', 0.06), ('Nissan', 0.00), ('peugeot', 0.05),\n",
    "                                            ('porsche', 0.02), ('toyota', 0.15), ('volkswagen', 0.04), ('volvo', 0.05)])\n",
    "whel_b = st.slider(\"WHEELBASE\", min_value=60.0, max_value=120.0, step=0.5)\n",
    "car_l = st.slider(\"CAR LENGTH\", min_value=1.0, max_value=200.0, step=0.5)\n",
    "car_w = st.slider(\"CAR WIDTH\", min_value=1.0, max_value=100.0, step=0.5)\n",
    "car_h = st.slider(\"CAR HEIGHT\", min_value=50.0, max_value=100.0, step=0.5)\n",
    "cur_weg = st.number_input(\"CURB WEIGHT\", min_value=500, max_value=5000)\n",
    "eng_ty = st.selectbox(\"ENGINE TYPE\", [(\"ohc\", 0.72), (\"ohcf\", 0.07), (\"ohcv\", 0.06), (\"dohc\", 0.06), ('l', 0.72), ('rotor', 0.02), ('dohcv', 0.00)])\n",
    "cylind_num = st.selectbox(\"CYLINDER NUMBER\", [2, 3, 4, 5, 6, 8, 12])\n",
    "engi_siz = st.slider(\"ENGINE SIZE\", min_value=60.0, max_value=105.0, step=0.5)\n",
    "fuel_sys = st.selectbox(\"FUEL SYSTEM\", [('mpfi', 0.46), ('2bbl', 0.32), ('idi', 0.10), ('1bbl', 0.05), ('spdi', 0.04), ('4bbl', 0.01), ('mfi', 0.00), ('spfi', 0.00)])\n",
    "strok = st.slider(\"STROKE\", min_value=0.0, max_value=20.0, step=1.0)\n",
    "h_p = st.slider(\"HORSEPOWER\", min_value=0.0, max_value=100.0, step=1.0)\n",
    "peak = st.slider(\"PEAK RPM\", min_value=0.0, max_value=30.0, step=1.0)\n",
    "citmp = st.slider(\"CITY MPG\", min_value=5, max_value=70, step=1)\n",
    "highmp = st.slider(\"HIGHWAY MPG\", min_value=5, max_value=100, step=1)\n",
    "\n",
    "# Prediction button\n",
    "if st.button(\"Predict Price\"):\n",
    "    result = prediction(sym, fuel[1], aspi[1], door[1], carbody[1], drivewheel[1], engine_l[1], whel_b, car_l, car_w, car_h, cur_weg, eng_ty[1],\n",
    "                        cylind_num, engi_siz, fuel_sys[1], strok, h_p, peak, citmp, highmp, companyName[1])\n",
    "    st.success(result)\n"
   ]
  },
  {
   "cell_type": "code",
   "execution_count": null,
   "id": "0187ad72-b8c2-4dd2-a1a0-4c13ab997268",
   "metadata": {},
   "outputs": [],
   "source": []
  }
 ],
 "metadata": {
  "kernelspec": {
   "display_name": "Python 3 (ipykernel)",
   "language": "python",
   "name": "python3"
  },
  "language_info": {
   "codemirror_mode": {
    "name": "ipython",
    "version": 3
   },
   "file_extension": ".py",
   "mimetype": "text/x-python",
   "name": "python",
   "nbconvert_exporter": "python",
   "pygments_lexer": "ipython3",
   "version": "3.12.4"
  }
 },
 "nbformat": 4,
 "nbformat_minor": 5
}
